{
 "cells": [
  {
   "cell_type": "markdown",
   "metadata": {},
   "source": [
    "content:      22:00 - 23:30\n",
    "github order: 00:00 - 00:30\n",
    "graphics:     00:30 - 01:00\n",
    "GOOD NIGHT!"
   ]
  },
  {
   "cell_type": "markdown",
   "metadata": {},
   "source": [
    "<p float=\"center\">\n",
    " <img src=\"Resources/EverCompliantLOGO.png\" width=\"300\" hspace=\"50\"/> \n",
    " <img src=\"Resources/BarIlanLOGO.jpg\" width=\"240\" hspace=\"50\"/> \n",
    "</p>\n",
    "fix this!"
   ]
  },
  {
   "cell_type": "markdown",
   "metadata": {},
   "source": [
    "# Classification Feedback Loop PoC - Project Paper"
   ]
  },
  {
   "attachments": {},
   "cell_type": "markdown",
   "metadata": {},
   "source": [
    "As a final assignment of the course 'Applied Data Science with Python' by dr. Omri Allouche, for graduate students at the EE faculty of Bar-Ilan University, we collaborated with the cyber risk intelligence company EverCompliant.\\\n",
    "Our team was: **Ofir Ben David**, **Daniel Einy**, **Nir Hen** and **Daniel halili**, all are M.Sc. students.\\\n",
    "As for EverCompliant side, we've worked with: **Inbal Budowski-Tal** *Director of AI* and **Inbal Gilaed** *Director of Product & BI* \\\n",
    "This notebook summarizes the work we've done, and presents the results and insights gained."
   ]
  },
  {
   "cell_type": "markdown",
   "metadata": {},
   "source": [
    "company scenario and project goals. add project plan!"
   ]
  },
  {
   "cell_type": "markdown",
   "metadata": {},
   "source": [
    "# title!!\n",
    "\n",
    "As part of EverCompliant activity to uncover hidden, suspicious and fraudulent e-commerce, one of the key tasks is to classify websites to their Line of Business (LoB classification).\n",
    "Amongst other methods, the company has a model that classify websites using their textual content.\n",
    "From time to time, this model requires a re-train, in order to improve performance or to be updated with the changing environment. For this training, new labeled data is needed.\n",
    "Unfortunately, labeling the data is an expensive process in terms of time and money. Also, retraining the models on additional labeled data does not always produce improvement.\n",
    "For this project, the company specified two two goals: \n",
    "* The major goal: Find a way to make labeling process more efficient by focusing on the most relevant and important samples.\n",
    "* Optional: Formulate method to recgonize 'model sturation' a stage where more data won't improve the model. We haven't  reached this part.\n",
    "As we saw in class, there is a relatively-new field termed 'Active Learn', that try to deal with this problems, and in the project we have dived into it and tried to find the best-fitting methods.\n",
    "First, a [project plan](ProjectPlan.pdf) was written."
   ]
  },
  {
   "cell_type": "markdown",
   "metadata": {},
   "source": [
    "what is active learn. short review"
   ]
  },
  {
   "cell_type": "markdown",
   "metadata": {},
   "source": [
    "EDA, include data presentation"
   ]
  },
  {
   "cell_type": "markdown",
   "metadata": {},
   "source": [
    "data preprocess"
   ]
  },
  {
   "cell_type": "markdown",
   "metadata": {},
   "source": [
    "simple model"
   ]
  },
  {
   "cell_type": "markdown",
   "metadata": {},
   "source": [
    "active learn framework"
   ]
  },
  {
   "cell_type": "markdown",
   "metadata": {},
   "source": [
    "measurements"
   ]
  },
  {
   "cell_type": "markdown",
   "metadata": {},
   "source": [
    "results"
   ]
  },
  {
   "cell_type": "markdown",
   "metadata": {},
   "source": [
    "what next"
   ]
  },
  {
   "cell_type": "markdown",
   "metadata": {},
   "source": [
    "thanks"
   ]
  }
 ],
 "metadata": {
  "kernelspec": {
   "display_name": "Python 3",
   "language": "python",
   "name": "python3"
  },
  "language_info": {
   "codemirror_mode": {
    "name": "ipython",
    "version": 3
   },
   "file_extension": ".py",
   "mimetype": "text/x-python",
   "name": "python",
   "nbconvert_exporter": "python",
   "pygments_lexer": "ipython3",
   "version": "3.7.3"
  }
 },
 "nbformat": 4,
 "nbformat_minor": 2
}
