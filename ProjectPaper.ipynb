{
 "cells": [
  {
   "cell_type": "markdown",
   "metadata": {},
   "source": [
    "content:      22:00 - 23:30\n",
    "github order: 00:00 - 00:30\n",
    "graphics:     00:30 - 01:00\n",
    "GOOD NIGHT!"
   ]
  },
  {
   "cell_type": "markdown",
   "metadata": {},
   "source": [
    "<p float=\"center\">\n",
    " <img src=\"Resources/EverCompliantLOGO.png\" width=\"300\" hspace=\"50\"/> \n",
    " <img src=\"Resources/BarIlanLOGO.jpg\" width=\"240\" hspace=\"50\"/> \n",
    "</p>\n",
    "fix this!"
   ]
  },
  {
   "attachments": {},
   "cell_type": "markdown",
   "metadata": {},
   "source": [
    "# Classification Feedback Loop PoC - Project Paper"
   ]
  },
  {
   "cell_type": "markdown",
   "metadata": {},
   "source": [
    "present: course, project, company, participants"
   ]
  },
  {
   "cell_type": "markdown",
   "metadata": {},
   "source": [
    "company scenario and project goals. add project plan!"
   ]
  },
  {
   "cell_type": "markdown",
   "metadata": {},
   "source": [
    "what is active learn. short review"
   ]
  },
  {
   "cell_type": "markdown",
   "metadata": {},
   "source": [
    "EDA, include data presentation"
   ]
  },
  {
   "cell_type": "markdown",
   "metadata": {},
   "source": [
    "data preprocess"
   ]
  },
  {
   "cell_type": "code",
   "execution_count": 1,
   "metadata": {},
   "outputs": [],
   "source": [
    "import og"
   ]
  }
 ],
 "metadata": {
  "kernelspec": {
   "display_name": "Python 3",
   "language": "python",
   "name": "python3"
  },
  "language_info": {
   "codemirror_mode": {
    "name": "ipython",
    "version": 3
   },
   "file_extension": ".py",
   "mimetype": "text/x-python",
   "name": "python",
   "nbconvert_exporter": "python",
   "pygments_lexer": "ipython3",
   "version": "3.7.3"
  }
 },
 "nbformat": 4,
 "nbformat_minor": 2
}
